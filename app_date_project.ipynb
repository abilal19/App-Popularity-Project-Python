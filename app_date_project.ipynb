{
 "cells": [
  {
   "cell_type": "markdown",
   "metadata": {},
   "source": [
    "# App popularity project\n",
    "\n",
    "what the project is about\n",
    "\n",
    "The aim is to help our developers understand what type of apps are likely to attract more users on Google Play and the App Store"
   ]
  },
  {
   "cell_type": "code",
   "execution_count": 1,
   "metadata": {
    "collapsed": true
   },
   "outputs": [],
   "source": [
    "from csv import reader"
   ]
  },
  {
   "cell_type": "code",
   "execution_count": 2,
   "metadata": {
    "collapsed": true
   },
   "outputs": [],
   "source": [
    "# quick way to explore the dataset\n",
    "def explore_data(dataset, start, end, rows_and_columns=False):\n",
    "    dataset_slice = dataset[start:end]    \n",
    "    for row in dataset_slice:\n",
    "        print(row)\n",
    "        print('\\n') # adds a new (empty) line after each row\n",
    "\n",
    "    if rows_and_columns: #if the header is removed, this is True\n",
    "        print('Number of rows:', len(dataset))\n",
    "        print('Number of columns:', len(dataset[0]))\n",
    "        "
   ]
  },
  {
   "cell_type": "code",
   "execution_count": 3,
   "metadata": {
    "collapsed": false
   },
   "outputs": [],
   "source": [
    "apple = (list(reader(open('AppleStore.csv'))))\n",
    "android = (list(reader(open('googleplaystore.csv'))))"
   ]
  },
  {
   "cell_type": "code",
   "execution_count": 4,
   "metadata": {
    "collapsed": false
   },
   "outputs": [
    {
     "name": "stdout",
     "output_type": "stream",
     "text": [
      "['id', 'track_name', 'size_bytes', 'currency', 'price', 'rating_count_tot', 'rating_count_ver', 'user_rating', 'user_rating_ver', 'ver', 'cont_rating', 'prime_genre', 'sup_devices.num', 'ipadSc_urls.num', 'lang.num', 'vpp_lic']\n",
      "\n",
      "\n",
      "['284882215', 'Facebook', '389879808', 'USD', '0.0', '2974676', '212', '3.5', '3.5', '95.0', '4+', 'Social Networking', '37', '1', '29', '1']\n",
      "\n",
      "\n",
      "['389801252', 'Instagram', '113954816', 'USD', '0.0', '2161558', '1289', '4.5', '4.0', '10.23', '12+', 'Photo & Video', '37', '0', '29', '1']\n",
      "\n",
      "\n",
      "Number of rows: 7198\n",
      "Number of columns: 16\n"
     ]
    }
   ],
   "source": [
    "explore_data(apple,0,3, True)"
   ]
  },
  {
   "cell_type": "code",
   "execution_count": 5,
   "metadata": {
    "collapsed": false
   },
   "outputs": [
    {
     "name": "stdout",
     "output_type": "stream",
     "text": [
      "['App', 'Category', 'Rating', 'Reviews', 'Size', 'Installs', 'Type', 'Price', 'Content Rating', 'Genres', 'Last Updated', 'Current Ver', 'Android Ver']\n",
      "\n",
      "\n",
      "['Photo Editor & Candy Camera & Grid & ScrapBook', 'ART_AND_DESIGN', '4.1', '159', '19M', '10,000+', 'Free', '0', 'Everyone', 'Art & Design', 'January 7, 2018', '1.0.0', '4.0.3 and up']\n",
      "\n",
      "\n",
      "['Coloring book moana', 'ART_AND_DESIGN', '3.9', '967', '14M', '500,000+', 'Free', '0', 'Everyone', 'Art & Design;Pretend Play', 'January 15, 2018', '2.0.0', '4.0.3 and up']\n",
      "\n",
      "\n",
      "Number of rows: 10842\n",
      "Number of columns: 13\n"
     ]
    }
   ],
   "source": [
    "explore_data(android,0,3, True)"
   ]
  },
  {
   "cell_type": "code",
   "execution_count": 10,
   "metadata": {
    "collapsed": false
   },
   "outputs": [],
   "source": [
    "#remove row with faulty data. Don't want to run this command again\n",
    "del android[10472]\n",
    "del android[10473]"
   ]
  },
  {
   "cell_type": "code",
   "execution_count": 11,
   "metadata": {
    "collapsed": false
   },
   "outputs": [
    {
     "name": "stdout",
     "output_type": "stream",
     "text": [
      "Number of duplicate apps: 1180\n",
      "\n",
      "a\n",
      "Examples of duplicate apps: [['Quick PDF Scanner + OCR FREE', 'BUSINESS', '4.2', '80805', 'Varies with device', '5,000,000+', 'Free', '0', 'Everyone', 'Business', 'February 26, 2018', 'Varies with device', '4.0.3 and up'], ['Box', 'BUSINESS', '4.2', '159872', 'Varies with device', '10,000,000+', 'Free', '0', 'Everyone', 'Business', 'July 31, 2018', 'Varies with device', 'Varies with device'], ['Google My Business', 'BUSINESS', '4.4', '70991', 'Varies with device', '5,000,000+', 'Free', '0', 'Everyone', 'Business', 'July 24, 2018', '2.19.0.204537701', '4.4 and up'], ['ZOOM Cloud Meetings', 'BUSINESS', '4.4', '31614', '37M', '10,000,000+', 'Free', '0', 'Everyone', 'Business', 'July 20, 2018', '4.1.28165.0716', '4.0 and up']]\n"
     ]
    }
   ],
   "source": [
    "# check for multiple entries\n",
    "\n",
    "# create two lists, when you encounter an app for the first time\n",
    "# add it to unique apps list, if encountered again, add it to duplicate list\n",
    "duplicate_apps = []\n",
    "unique_apps = []\n",
    "for row in android:\n",
    "    name = row[0]\n",
    "    if name in unique_apps:\n",
    "        duplicate_apps.append(row)\n",
    "    else:\n",
    "        unique_apps.append(name)\n",
    "        \n",
    "print('Number of duplicate apps:', len(duplicate_apps))\n",
    "print('\\na')\n",
    "print('Examples of duplicate apps:',duplicate_apps[:4])"
   ]
  },
  {
   "cell_type": "markdown",
   "metadata": {},
   "source": [
    "We can see that there are duplicate entries in this dataset,\n",
    "this is because the data recordings for these apps were taken at different times. So we are going to get unique apps by only keeping the apps with the highest review, so the latest entry for each app"
   ]
  },
  {
   "cell_type": "code",
   "execution_count": 12,
   "metadata": {
    "collapsed": false
   },
   "outputs": [
    {
     "name": "stdout",
     "output_type": "stream",
     "text": [
      "Expected length: 9657\n",
      "Actual length: 9657\n"
     ]
    }
   ],
   "source": [
    "\n",
    "# # we are assuming that the highest number of reviews means that it\n",
    "# is the latest entry and we want to keep that. We start with a dictionary\n",
    "# that for each app (name), records its reviews\n",
    "\n",
    "# So if an app name is in the dictionary as a key, check if this row's\n",
    "# rating is higher than that entry's value, if it is, record the new rating \n",
    "# as the value for that key in the dictionary.\n",
    "\n",
    "# We know we do not want anything done when there is that app (key) in \n",
    "# dictionary, but the rating there is the higher, then do not do anything\n",
    "# for this row and move on. So do not write an if or elif for this since\n",
    "# nothing needs to be done except move to the next loop.\n",
    "\n",
    "reviews_max = {}\n",
    "\n",
    "for row in android[1:]:\n",
    "    name = row[0]\n",
    "    n_reviews = float(row[3])\n",
    "    \n",
    "    if name in reviews_max and reviews_max[name] < n_reviews:\n",
    "        reviews_max[name] = n_reviews\n",
    "        \n",
    "    elif name not in reviews_max:\n",
    "        reviews_max[name] = n_reviews\n",
    "        \n",
    "print('Expected length:', len(android) - 1181) #1181 is the number of duplicate elements we found above\n",
    "print('Actual length:', len(reviews_max))\n",
    "    \n",
    "    "
   ]
  },
  {
   "cell_type": "code",
   "execution_count": 13,
   "metadata": {
    "collapsed": false
   },
   "outputs": [
    {
     "name": "stdout",
     "output_type": "stream",
     "text": [
      "['Photo Editor & Candy Camera & Grid & ScrapBook', 'ART_AND_DESIGN', '4.1', '159', '19M', '10,000+', 'Free', '0', 'Everyone', 'Art & Design', 'January 7, 2018', '1.0.0', '4.0.3 and up']\n",
      "\n",
      "\n",
      "['U Launcher Lite – FREE Live Cool Themes, Hide Apps', 'ART_AND_DESIGN', '4.7', '87510', '8.7M', '5,000,000+', 'Free', '0', 'Everyone', 'Art & Design', 'August 1, 2018', '1.2.4', '4.0.3 and up']\n",
      "\n",
      "\n",
      "['Sketch - Draw & Paint', 'ART_AND_DESIGN', '4.5', '215644', '25M', '50,000,000+', 'Free', '0', 'Teen', 'Art & Design', 'June 8, 2018', 'Varies with device', '4.2 and up']\n",
      "\n",
      "\n",
      "Number of rows: 9657\n",
      "Number of columns: 13\n"
     ]
    }
   ],
   "source": [
    "# # use dictionary to remove dupliucates\n",
    "# now that we have a dictionary with the app(name ) and its highest\n",
    "# value, we are going to loop over each value in df, get the name and\n",
    "# n_reviews column, then check if the name (the key in the dictionary)\n",
    "# in the row matches the value in the dictionary. If it does, append\n",
    "# that row to the clean list of List. \n",
    "\n",
    "android_clean = []\n",
    "already_added = []\n",
    "for row in android[1:]:\n",
    "    name = row[0]\n",
    "    n_reviews = float(row[3])\n",
    "    if (n_reviews == reviews_max[name]) and (name not in already_added):\n",
    "        android_clean.append(row)\n",
    "        already_added.append(name)\n",
    "\n",
    "explore_data(android_clean, 0,3, True )\n",
    "        \n",
    "        \n"
   ]
  },
  {
   "cell_type": "markdown",
   "metadata": {},
   "source": [
    "Now we are going to focus on only apps with english names"
   ]
  },
  {
   "cell_type": "code",
   "execution_count": 26,
   "metadata": {
    "collapsed": false
   },
   "outputs": [
    {
     "name": "stdout",
     "output_type": "stream",
     "text": [
      "True\n",
      "False\n",
      "True\n"
     ]
    }
   ],
   "source": [
    "\n",
    "# # a function that takes a string and outputs False if there is any non-english character, otherwise it outputs True\n",
    "# Go through each row name and see if there is any character in the string\n",
    "# with the ord to be greater than 127, if it is, probably a foregign character\n",
    "# . SO for each string, go through its character and keep a count \n",
    "# of how many non-eng character it has. Then if there are more than 3\n",
    "# for a string (name). \n",
    "\n",
    "# First create the function that operates over one input string and \n",
    "# outputs false if there are more than 3 non_eng characters \n",
    "\n",
    "def eng_char(string):\n",
    "    non_eng = []\n",
    "    for character in string:\n",
    "        num = ord(character)\n",
    "        if num > 127:\n",
    "            non_eng.append(num)\n",
    "    if len(non_eng)>3:\n",
    "        return False\n",
    "    else:\n",
    "        return True \n",
    " \n",
    "\n",
    "#testing \n",
    "print(eng_char('Docs To Go™ Free Office Suite'))\n",
    "print(eng_char('爱奇艺PPS -《欢乐颂2》电视剧热播'))\n",
    "print(eng_char('Instachat 😜'))\n",
    "\n"
   ]
  },
  {
   "cell_type": "markdown",
   "metadata": {},
   "source": [
    "To minimize the impact of data loss, we'll only remove an app if its name has more than three characters with corresponding numbers falling outside the ASCII range. This means all English apps with up to three emoji or other special characters will still be labeled as English. Our filter function is still not perfect, but it should be fairly effective."
   ]
  },
  {
   "cell_type": "code",
   "execution_count": 27,
   "metadata": {
    "collapsed": false
   },
   "outputs": [
    {
     "name": "stdout",
     "output_type": "stream",
     "text": [
      "10796\n",
      "6183\n"
     ]
    }
   ],
   "source": [
    "android_clean = []\n",
    "for row in android[1:]:\n",
    "    name = row[0]\n",
    "    if eng_char(name) == True:\n",
    "        android_clean.append(row)\n",
    "        \n",
    "apple_clean = []\n",
    "for row in apple[1:]:\n",
    "    name = row[1]\n",
    "    if eng_char(name) == True:\n",
    "        apple_clean.append(row)\n",
    "\n",
    "print(len(android_clean))\n",
    "print(len(apple_clean))"
   ]
  },
  {
   "cell_type": "markdown",
   "metadata": {},
   "source": [
    "As we mentioned in the introduction, we only build apps that are free to download and install, and our main source of revenue consists of in-app ads. Our data sets contain both free and non-free apps; we'll need to isolate only the free apps for our analysis.\n",
    "\n",
    "Isolating the free apps will be our last step in the data cleaning process."
   ]
  },
  {
   "cell_type": "code",
   "execution_count": 28,
   "metadata": {
    "collapsed": false
   },
   "outputs": [
    {
     "name": "stdout",
     "output_type": "stream",
     "text": [
      "9999\n",
      "3222\n"
     ]
    }
   ],
   "source": [
    "android_final=[]\n",
    "for row in android_clean:\n",
    "    price = row[7]\n",
    "    if price == '0':\n",
    "        android_final.append(row)\n",
    "        \n",
    "ios_final=[]\n",
    "for row in apple_clean:\n",
    "    price = row[4]\n",
    "    if price == '0.0':\n",
    "        ios_final.append(row)\n",
    "        \n",
    "        \n",
    "print(len(android_final))\n",
    "print(len(ios_final))"
   ]
  },
  {
   "cell_type": "markdown",
   "metadata": {},
   "source": [
    "So far, we have:\n",
    "\n",
    "Removed inaccurate data\n",
    "Removed duplicate app entries\n",
    "Removed non-English apps\n",
    "Isolated the free apps\n",
    "\n",
    "Our aim is to determine the kinds of apps that are likely to attract more users because our revenue is highly influenced by the number of people using our apps.\n",
    "\n",
    "To minimize risks and overhead, our validation strategy for an app idea is comprised of three steps:\n",
    "\n",
    "Build a minimal Android version of the app, and add it to Google Play.\n",
    "If the app has a good response from users, we develop it further.\n",
    "If the app is profitable after six months, we build an iOS version of the app and add it to the App Store.\n",
    "\n",
    "Because our end goal is to add the app on both Google Play and the App Store, we need to find app profiles that are successful on both markets. For instance, a profile that works well for both markets might be a productivity app that makes use of gamification.\n",
    "\n",
    "**Let's begin the analysis by getting a sense of what are the most common genres for each market. For this, we'll need to build frequency tables for a few columns in our data sets.**"
   ]
  },
  {
   "cell_type": "code",
   "execution_count": 29,
   "metadata": {
    "collapsed": false
   },
   "outputs": [
    {
     "name": "stdout",
     "output_type": "stream",
     "text": [
      "['Photo Editor & Candy Camera & Grid & ScrapBook', 'ART_AND_DESIGN', '4.1', '159', '19M', '10,000+', 'Free', '0', 'Everyone', 'Art & Design', 'January 7, 2018', '1.0.0', '4.0.3 and up']\n",
      "\n",
      "\n",
      "['Coloring book moana', 'ART_AND_DESIGN', '3.9', '967', '14M', '500,000+', 'Free', '0', 'Everyone', 'Art & Design;Pretend Play', 'January 15, 2018', '2.0.0', '4.0.3 and up']\n",
      "\n",
      "\n",
      "['U Launcher Lite – FREE Live Cool Themes, Hide Apps', 'ART_AND_DESIGN', '4.7', '87510', '8.7M', '5,000,000+', 'Free', '0', 'Everyone', 'Art & Design', 'August 1, 2018', '1.2.4', '4.0.3 and up']\n",
      "\n",
      "\n"
     ]
    }
   ],
   "source": [
    "explore_data(android_final,0,3)\n"
   ]
  },
  {
   "cell_type": "code",
   "execution_count": 30,
   "metadata": {
    "collapsed": false
   },
   "outputs": [
    {
     "name": "stdout",
     "output_type": "stream",
     "text": [
      "['284882215', 'Facebook', '389879808', 'USD', '0.0', '2974676', '212', '3.5', '3.5', '95.0', '4+', 'Social Networking', '37', '1', '29', '1']\n",
      "\n",
      "\n",
      "['389801252', 'Instagram', '113954816', 'USD', '0.0', '2161558', '1289', '4.5', '4.0', '10.23', '12+', 'Photo & Video', '37', '0', '29', '1']\n",
      "\n",
      "\n",
      "['529479190', 'Clash of Clans', '116476928', 'USD', '0.0', '2130805', '579', '4.5', '4.5', '9.24.12', '9+', 'Games', '38', '5', '18', '1']\n",
      "\n",
      "\n"
     ]
    }
   ],
   "source": [
    "explore_data(ios_final,0,3)"
   ]
  },
  {
   "cell_type": "markdown",
   "metadata": {},
   "source": [
    "We'll build two functions we can use to analyze the frequency tables:\n",
    "\n",
    "One function to generate frequency tables that show percentages\n",
    "Another function we can use to display the percentages in a descending order\n",
    "\n",
    "\n",
    "we'll need to make use of the built-in sorted() function. This function takes in an iterable data type (like a list, dictionary, tuple, etc.), and returns a list of the elements of that iterable sorted in ascending or descending order"
   ]
  },
  {
   "cell_type": "markdown",
   "metadata": {},
   "source": [
    "The sorted() function doesn't work too well with dictionaries because it only considers and returns the dictionary keys.\n",
    "\n"
   ]
  },
  {
   "cell_type": "markdown",
   "metadata": {},
   "source": [
    "**the sorted() function works well if we transform the dictionary into a list of tuples, where each tuple contains a dictionary key along with its corresponding dictionary value.**"
   ]
  },
  {
   "cell_type": "markdown",
   "metadata": {},
   "source": [
    "The display_table() function:\n",
    "\n",
    "Takes in two parameters: dataset and index. dataset is expected to be a list of lists, and index is expected to be an integer.\n",
    "\n",
    "Generates a frequency table using the freq_table() function\n",
    "\n",
    "Transforms the frequency table into a list of tuples, then sorts the list in a descending order.\n",
    "\n",
    "Prints the entries of the frequency table in descending order."
   ]
  },
  {
   "cell_type": "markdown",
   "metadata": {},
   "source": [
    "freq_table() that takes in two inputs: dataset (which is expected to be a list of lists) and index (which is expected to be an integer).\n",
    "\n",
    "The function should return the frequency table (as a dictionary) for any column we want. The frequencies should also be expressed as percentages.\n",
    "We already learned how to build frequency tables in the mission on dictionaries."
   ]
  },
  {
   "cell_type": "code",
   "execution_count": 32,
   "metadata": {
    "collapsed": true
   },
   "outputs": [],
   "source": [
    "\n",
    "#this loops around the dataset and creates a dictionary of each genre and how \n",
    "#many times it appears\n",
    "\n",
    "def freq_table(dataset,index):\n",
    "    freq_dict = {}\n",
    "    for row in dataset:\n",
    "        col = row[index]\n",
    "        if col in freq_dict:\n",
    "            freq_dict[col] += 1\n",
    "        else:\n",
    "            freq_dict[col] = 1\n",
    "            \n",
    "    for key in freq_dict:\n",
    "        freq_dict[key] = (freq_dict[key]/len(dataset))*100\n",
    "        \n",
    "\n",
    "    return freq_dict\n",
    "\n",
    "\n",
    "# takes a freq dictionary, for each key (frequency), create a tuple\n",
    "# with freq_val (value) and then the freq (key) and append this tuple \n",
    "# to a list.\n",
    "# sort this new list and then go through this tuple, print second\n",
    "# tuple element first and first element after\n",
    "\n",
    "def display_table(dataset, index):\n",
    "    table = freq_table(dataset, index)\n",
    "    table_display = []\n",
    "    for key in table:\n",
    "        key_val_as_tuple = (table[key], key)\n",
    "        table_display.append(key_val_as_tuple)\n",
    "\n",
    "    table_sorted = sorted(table_display, reverse = True)\n",
    "    for entry in table_sorted:\n",
    "        print(entry[1], ':', entry[0])"
   ]
  },
  {
   "cell_type": "markdown",
   "metadata": {},
   "source": [
    "We start by examining the frequency table for the prime_genre column of the App Store data set.\n",
    "\n"
   ]
  },
  {
   "cell_type": "code",
   "execution_count": 33,
   "metadata": {
    "collapsed": false
   },
   "outputs": [
    {
     "name": "stdout",
     "output_type": "stream",
     "text": [
      "Games : 58.16263190564867\n",
      "Entertainment : 7.883302296710118\n",
      "Photo & Video : 4.9658597144630665\n",
      "Education : 3.662321539416512\n",
      "Social Networking : 3.2898820608317814\n",
      "Shopping : 2.60707635009311\n",
      "Utilities : 2.5139664804469275\n",
      "Sports : 2.1415270018621975\n",
      "Music : 2.0484171322160147\n",
      "Health & Fitness : 2.0173805090006205\n",
      "Productivity : 1.7380509000620732\n",
      "Lifestyle : 1.5828677839851024\n",
      "News : 1.3345747982619491\n",
      "Travel : 1.2414649286157666\n",
      "Finance : 1.1173184357541899\n",
      "Weather : 0.8690254500310366\n",
      "Food & Drink : 0.8069522036002483\n",
      "Reference : 0.5586592178770949\n",
      "Business : 0.5276225946617008\n",
      "Book : 0.4345127250155183\n",
      "Navigation : 0.186219739292365\n",
      "Medical : 0.186219739292365\n",
      "Catalogs : 0.12414649286157665\n"
     ]
    }
   ],
   "source": [
    "display_table(ios_final, -5)\n"
   ]
  },
  {
   "cell_type": "markdown",
   "metadata": {},
   "source": [
    "We can see that among the free English apps, more than a half (58.16%) are games. Entertainment apps are close to 8%, followed by photo and video apps, which are close to 5%. Only 3.66% of the apps are designed for education, followed by social networking apps which amount for 3.29% of the apps in our data set.\n",
    "\n",
    "The general impression is that App Store (at least the part containing free English apps) is dominated by apps that are designed for fun (games, entertainment, photo and video, social networking, sports, music, etc.), while apps with practical purposes (education, shopping, utilities, productivity, lifestyle, etc.) are more rare. However, the fact that fun apps are the most numerous doesn't also imply that they also have the greatest number of users — the demand might not be the same as the offer.\n",
    "\n",
    "Let's continue by examining the Genres and Category columns of the Google Play data set (two columns which seem to be related)."
   ]
  },
  {
   "cell_type": "code",
   "execution_count": 34,
   "metadata": {
    "collapsed": false
   },
   "outputs": [
    {
     "name": "stdout",
     "output_type": "stream",
     "text": [
      "FAMILY : 17.67176717671767\n",
      "GAME : 10.591059105910592\n",
      "TOOLS : 7.640764076407641\n",
      "BUSINESS : 4.45044504450445\n",
      "PRODUCTIVITY : 3.95039503950395\n",
      "SPORTS : 3.6003600360036003\n",
      "LIFESTYLE : 3.5903590359035906\n",
      "COMMUNICATION : 3.5903590359035906\n",
      "MEDICAL : 3.5403540354035403\n",
      "FINANCE : 3.49034903490349\n",
      "HEALTH_AND_FITNESS : 3.2503250325032504\n",
      "PHOTOGRAPHY : 3.1203120312031203\n",
      "PERSONALIZATION : 3.08030803080308\n",
      "SOCIAL : 2.9202920292029204\n",
      "NEWS_AND_MAGAZINES : 2.7702770277027704\n",
      "SHOPPING : 2.5702570257025705\n",
      "TRAVEL_AND_LOCAL : 2.4602460246024602\n",
      "DATING : 2.2702270227022705\n",
      "BOOKS_AND_REFERENCE : 1.9901990199019903\n",
      "VIDEO_PLAYERS : 1.7001700170017002\n",
      "EDUCATION : 1.5101510151015103\n",
      "ENTERTAINMENT : 1.4701470147014701\n",
      "MAPS_AND_NAVIGATION : 1.3001300130013\n",
      "FOOD_AND_DRINK : 1.25012501250125\n",
      "HOUSE_AND_HOME : 0.88008800880088\n",
      "LIBRARIES_AND_DEMO : 0.8400840084008401\n",
      "AUTO_AND_VEHICLES : 0.8200820082008201\n",
      "WEATHER : 0.7400740074007401\n",
      "EVENTS : 0.6300630063006301\n",
      "ART_AND_DESIGN : 0.6100610061006101\n",
      "COMICS : 0.59005900590059\n",
      "PARENTING : 0.58005800580058\n",
      "BEAUTY : 0.53005300530053\n"
     ]
    }
   ],
   "source": [
    "display_table(android_final, 1) # Category\n"
   ]
  },
  {
   "cell_type": "markdown",
   "metadata": {},
   "source": [
    "The landscape seems significantly different on Google Play: there are not that many apps designed for fun, and it seems that a good number of apps are designed for practical purposes (family, tools, business, lifestyle, productivity, etc.). However, if we investigate this further, we can see that the family category (which accounts for almost 19% of the apps) means mostly games for kids.\n",
    "\n",
    "Even so, practical apps seem to have a better representation on Google Play compared to App Store. This picture is also confirmed by the frequency table we see for the Genres column:"
   ]
  },
  {
   "cell_type": "code",
   "execution_count": 35,
   "metadata": {
    "collapsed": false
   },
   "outputs": [
    {
     "name": "stdout",
     "output_type": "stream",
     "text": [
      "Tools : 7.630763076307631\n",
      "Entertainment : 6.0006000600060005\n",
      "Education : 5.1305130513051305\n",
      "Business : 4.45044504450445\n",
      "Productivity : 3.95039503950395\n",
      "Sports : 3.74037403740374\n",
      "Communication : 3.5903590359035906\n",
      "Lifestyle : 3.5803580358035805\n",
      "Medical : 3.5403540354035403\n",
      "Finance : 3.49034903490349\n",
      "Action : 3.4103410341034106\n",
      "Health & Fitness : 3.2503250325032504\n",
      "Photography : 3.1203120312031203\n",
      "Personalization : 3.08030803080308\n",
      "Social : 2.9202920292029204\n",
      "News & Magazines : 2.7702770277027704\n",
      "Shopping : 2.5702570257025705\n",
      "Travel & Local : 2.45024502450245\n",
      "Dating : 2.2702270227022705\n",
      "Arcade : 2.0002000200020005\n",
      "Books & Reference : 1.9901990199019903\n",
      "Simulation : 1.8801880188018802\n",
      "Casual : 1.84018401840184\n",
      "Video Players & Editors : 1.6801680168016802\n",
      "Maps & Navigation : 1.3001300130013\n",
      "Food & Drink : 1.25012501250125\n",
      "Puzzle : 1.21012101210121\n",
      "Racing : 0.9500950095009502\n",
      "Strategy : 0.9300930093009301\n",
      "House & Home : 0.88008800880088\n",
      "Role Playing : 0.87008700870087\n",
      "Libraries & Demo : 0.8400840084008401\n",
      "Auto & Vehicles : 0.8200820082008201\n",
      "Weather : 0.7400740074007401\n",
      "Events : 0.6300630063006301\n",
      "Adventure : 0.6200620062006201\n",
      "Comics : 0.58005800580058\n",
      "Art & Design : 0.54005400540054\n",
      "Beauty : 0.53005300530053\n",
      "Parenting : 0.44004400440044\n",
      "Education;Education : 0.4300430043004301\n",
      "Card : 0.41004100410041006\n",
      "Educational;Education : 0.38003800380038005\n",
      "Casino : 0.38003800380038005\n",
      "Trivia : 0.37003700370037007\n",
      "Board : 0.35003500350035005\n",
      "Educational : 0.33003300330033003\n",
      "Word : 0.29002900290029\n",
      "Entertainment;Music & Video : 0.27002700270027\n",
      "Casual;Pretend Play : 0.25002500250025006\n",
      "Music : 0.21002100210021002\n",
      "Casual;Action & Adventure : 0.2000200020002\n",
      "Racing;Action & Adventure : 0.19001900190019003\n",
      "Puzzle;Brain Games : 0.17001700170017\n",
      "Educational;Pretend Play : 0.14001400140014\n",
      "Action;Action & Adventure : 0.14001400140014\n",
      "Casual;Brain Games : 0.13001300130013002\n",
      "Arcade;Action & Adventure : 0.12001200120012002\n",
      "Simulation;Action & Adventure : 0.11001100110011\n",
      "Adventure;Action & Adventure : 0.11001100110011\n",
      "Entertainment;Brain Games : 0.08000800080008001\n",
      "Education;Pretend Play : 0.08000800080008001\n",
      "Board;Brain Games : 0.08000800080008001\n",
      "Parenting;Education : 0.07000700070007\n",
      "Casual;Creativity : 0.07000700070007\n",
      "Art & Design;Creativity : 0.07000700070007\n",
      "Role Playing;Action & Adventure : 0.06000600060006001\n",
      "Parenting;Music & Video : 0.06000600060006001\n",
      "Educational;Brain Games : 0.06000600060006001\n",
      "Role Playing;Pretend Play : 0.05000500050005\n",
      "Puzzle;Action & Adventure : 0.05000500050005\n",
      "Education;Music & Video : 0.05000500050005\n",
      "Education;Creativity : 0.05000500050005\n",
      "Educational;Action & Adventure : 0.040004000400040006\n",
      "Education;Brain Games : 0.040004000400040006\n",
      "Education;Action & Adventure : 0.040004000400040006\n",
      "Video Players & Editors;Music & Video : 0.030003000300030006\n",
      "Simulation;Pretend Play : 0.030003000300030006\n",
      "Entertainment;Creativity : 0.030003000300030006\n",
      "Entertainment;Action & Adventure : 0.030003000300030006\n",
      "Educational;Creativity : 0.030003000300030006\n",
      "Video Players & Editors;Creativity : 0.020002000200020003\n",
      "Sports;Action & Adventure : 0.020002000200020003\n",
      "Puzzle;Creativity : 0.020002000200020003\n",
      "Music;Music & Video : 0.020002000200020003\n",
      "Entertainment;Pretend Play : 0.020002000200020003\n",
      "Casual;Music & Video : 0.020002000200020003\n",
      "Casual;Education : 0.020002000200020003\n",
      "Board;Action & Adventure : 0.020002000200020003\n",
      "Art & Design;Pretend Play : 0.020002000200020003\n",
      "Art & Design;Action & Adventure : 0.020002000200020003\n",
      "Adventure;Education : 0.020002000200020003\n",
      "Trivia;Education : 0.010001000100010001\n",
      "Travel & Local;Action & Adventure : 0.010001000100010001\n",
      "Tools;Education : 0.010001000100010001\n",
      "Strategy;Education : 0.010001000100010001\n",
      "Strategy;Creativity : 0.010001000100010001\n",
      "Strategy;Action & Adventure : 0.010001000100010001\n",
      "Simulation;Education : 0.010001000100010001\n",
      "Role Playing;Brain Games : 0.010001000100010001\n",
      "Racing;Pretend Play : 0.010001000100010001\n",
      "Puzzle;Education : 0.010001000100010001\n",
      "Parenting;Brain Games : 0.010001000100010001\n",
      "Music & Audio;Music & Video : 0.010001000100010001\n",
      "Lifestyle;Pretend Play : 0.010001000100010001\n",
      "Lifestyle;Education : 0.010001000100010001\n",
      "Health & Fitness;Education : 0.010001000100010001\n",
      "Health & Fitness;Action & Adventure : 0.010001000100010001\n",
      "Entertainment;Education : 0.010001000100010001\n",
      "Communication;Creativity : 0.010001000100010001\n",
      "Comics;Creativity : 0.010001000100010001\n",
      "Card;Brain Games : 0.010001000100010001\n",
      "Card;Action & Adventure : 0.010001000100010001\n",
      "Books & Reference;Education : 0.010001000100010001\n",
      "Arcade;Pretend Play : 0.010001000100010001\n"
     ]
    }
   ],
   "source": [
    "display_table(android_final, -4)\n"
   ]
  },
  {
   "cell_type": "markdown",
   "metadata": {},
   "source": [
    "we generated frequency tables for the columns prime_genre, Genres, and Category. We'll now focus on analyzing these frequency tables."
   ]
  },
  {
   "cell_type": "markdown",
   "metadata": {},
   "source": [
    "The difference between the Genres and the Category columns is not crystal clear, but one thing we can notice is that the Genres column is much more granular (it has more categories). We're only looking for the bigger picture at the moment, so we'll only work with the Category column moving forward.\n",
    "\n",
    "Up to this point, we found that the App Store is dominated by apps designed for fun, while Google Play shows a more balanced landscape of both practical and for-fun apps. Now we'd like to get an idea about the kind of apps that have most users."
   ]
  },
  {
   "cell_type": "markdown",
   "metadata": {
    "collapsed": true
   },
   "source": [
    "One way to find out what genres are the most popular (have the most users) is to calculate the average number of installs for each app genre. For the Google Play data set, we can find this information in the Installs column, but this information is missing for the App Store data set. As a workaround, we'll take the total number of user ratings as a proxy, which we can find in the rating_count_tot app."
   ]
  },
  {
   "cell_type": "markdown",
   "metadata": {},
   "source": [
    "Start by generating a frequency table for the prime_genre column to get the unique app genres (below, we'll need to loop over the unique genres). You can use the freq_table() function you wrote in a previous screen."
   ]
  },
  {
   "cell_type": "code",
   "execution_count": 38,
   "metadata": {
    "collapsed": false
   },
   "outputs": [
    {
     "name": "stdout",
     "output_type": "stream",
     "text": [
      "Social Networking : 71548.34905660378\n",
      "Music : 57326.530303030304\n",
      "Finance : 31467.944444444445\n",
      "Reference : 74942.11111111111\n",
      "Sports : 23008.898550724636\n",
      "Photo & Video : 28441.54375\n",
      "Travel : 28243.8\n",
      "Entertainment : 14029.830708661417\n",
      "Shopping : 26919.690476190477\n",
      "Productivity : 21028.410714285714\n",
      "Navigation : 86090.33333333333\n",
      "Games : 22788.6696905016\n",
      "Weather : 52279.892857142855\n",
      "Health & Fitness : 23298.015384615384\n",
      "Medical : 612.0\n",
      "Catalogs : 4004.0\n",
      "News : 21248.023255813954\n",
      "Business : 7491.117647058823\n",
      "Utilities : 18684.456790123455\n",
      "Education : 7003.983050847458\n",
      "Food & Drink : 33333.92307692308\n",
      "Lifestyle : 16485.764705882353\n",
      "Book : 39758.5\n"
     ]
    }
   ],
   "source": [
    "genres_ios = freq_table(ios_final, -5)\n",
    "\n",
    "#genre_ios is a dictionary of a genre and their frequence, \n",
    "#now we want the average number of ratings for an of that genre\n",
    "\n",
    "for genre in genres_ios:\n",
    "    genre_rating_total= 0\n",
    "    len_genre = 0\n",
    "    for row in ios_final:\n",
    "        genre_app=row[-5]\n",
    "        n_ratings = float(row[5])\n",
    "        if genre_app == genre:\n",
    "            genre_rating_total += n_ratings\n",
    "            len_genre += 1\n",
    "    avg_n_ratings = genre_rating_total / len_genre\n",
    "    print(genre, ':', avg_n_ratings)\n",
    "    \n",
    "            \n",
    "        \n",
    "#THIS IS THE AVG NUMBER OD RATINGS FOR AN APP FROM THIS GENRE\n",
    "    "
   ]
  },
  {
   "cell_type": "markdown",
   "metadata": {},
   "source": [
    "# Most Popular Apps by Genre on Google Play\n",
    "For the Google Play market, we actually have data about the number of installs, so we should be able to get a clearer picture about genre popularity. However, the install numbers don't seem precise enough — we can see that most values are open-ended (100+, 1,000+, 5,000+, etc.):"
   ]
  },
  {
   "cell_type": "markdown",
   "metadata": {
    "collapsed": true
   },
   "source": [
    "Start by generating a frequency table for the Category column of the Google Play data set to get the unique app genres\n"
   ]
  },
  {
   "cell_type": "code",
   "execution_count": 39,
   "metadata": {
    "collapsed": false
   },
   "outputs": [
    {
     "name": "stdout",
     "output_type": "stream",
     "text": [
      "EDUCATION : 5760596.026490066\n",
      "AUTO_AND_VEHICLES : 647317.8170731707\n",
      "MAPS_AND_NAVIGATION : 5569698.307692308\n",
      "HOUSE_AND_HOME : 1917187.0568181819\n",
      "MEDICAL : 147563.28813559323\n",
      "FAMILY : 5784094.900962083\n",
      "SOCIAL : 48184458.56849315\n",
      "LIFESTYLE : 1479956.6267409471\n",
      "BOOKS_AND_REFERENCE : 9655197.28643216\n",
      "WEATHER : 5747142.162162162\n",
      "PARENTING : 542603.6206896552\n",
      "COMICS : 950443.220338983\n",
      "FINANCE : 2511355.6790830945\n",
      "GAME : 33111302.596789423\n",
      "ART_AND_DESIGN : 2038050.8196721312\n",
      "PRODUCTIVITY : 35885137.50379747\n",
      "VIDEO_PLAYERS : 36599010.11764706\n",
      "FOOD_AND_DRINK : 2190710.008\n",
      "SHOPPING : 12637504.221789883\n",
      "BEAUTY : 513151.88679245283\n",
      "BUSINESS : 2250454.1348314607\n",
      "ENTERTAINMENT : 19516734.69387755\n",
      "PHOTOGRAPHY : 32321374.407051284\n",
      "SPORTS : 4860918.563888889\n",
      "EVENTS : 253542.22222222222\n",
      "COMMUNICATION : 90935671.86908078\n",
      "NEWS_AND_MAGAZINES : 27058831.263537906\n",
      "PERSONALIZATION : 7533233.402597402\n",
      "DATING : 1164270.7356828193\n",
      "TRAVEL_AND_LOCAL : 27921561.32520325\n",
      "TOOLS : 14988276.79842932\n",
      "HEALTH_AND_FITNESS : 4869225.852307692\n",
      "LIBRARIES_AND_DEMO : 749950.119047619\n"
     ]
    }
   ],
   "source": [
    "\n",
    "#getting the avg number of installs of app per category/genre\n",
    "categories_android = freq_table(android_final, 1)\n",
    "\n",
    "#use the genre/category frequency table dictionary to get unique \n",
    "#genres and then for each loop through the df and get the avg number \n",
    "#of installs for an app of that genre\n",
    "\n",
    "for category in categories_android:\n",
    "    total = 0\n",
    "    len_category = 0\n",
    "    for row in android_final:\n",
    "        category_app = row[1]\n",
    "        n_installs = row[5]\n",
    "        #now we are going to replace the commas and plus in the number \n",
    "        n_installs = n_installs.replace(',', '')\n",
    "        n_installs = n_installs.replace('+', '')\n",
    "        if category_app == category:\n",
    "            total += float(n_installs)\n",
    "            len_category +=1\n",
    "    avg_n_installs = total / len_category\n",
    "    print(category, ':', avg_n_installs)\n",
    "    \n",
    "    "
   ]
  },
  {
   "cell_type": "markdown",
   "metadata": {},
   "source": [
    "On average, communication apps have the most installs: 38,456,119. This number is heavily skewed up by a few apps that have over one billion installs (WhatsApp, Facebook Messenger, Skype, Google Chrome, Gmail, and Hangouts), and a few others with over 100 and 500 million installs:"
   ]
  },
  {
   "cell_type": "code",
   "execution_count": 40,
   "metadata": {
    "collapsed": false
   },
   "outputs": [
    {
     "name": "stdout",
     "output_type": "stream",
     "text": [
      "Messenger – Text and Video Chat for Free : 1,000,000,000+\n",
      "WhatsApp Messenger : 1,000,000,000+\n",
      "Google Chrome: Fast & Secure : 1,000,000,000+\n",
      "Messenger Lite: Free Calls & Messages : 100,000,000+\n",
      "Gmail : 1,000,000,000+\n",
      "Hangouts : 1,000,000,000+\n",
      "Viber Messenger : 500,000,000+\n",
      "Firefox Browser fast & private : 100,000,000+\n",
      "Yahoo Mail – Stay Organized : 100,000,000+\n",
      "imo beta free calls and text : 100,000,000+\n",
      "imo free video calls and chat : 500,000,000+\n",
      "Opera Mini - fast web browser : 100,000,000+\n",
      "Opera Browser: Fast and Secure : 100,000,000+\n",
      "Who : 100,000,000+\n",
      "WeChat : 100,000,000+\n",
      "UC Browser Mini -Tiny Fast Private & Secure : 100,000,000+\n",
      "Android Messages : 100,000,000+\n",
      "Telegram : 100,000,000+\n",
      "Google Duo - High Quality Video Calls : 500,000,000+\n",
      "UC Browser - Fast Download Private & Secure : 500,000,000+\n",
      "WhatsApp Messenger : 1,000,000,000+\n",
      "Messenger – Text and Video Chat for Free : 1,000,000,000+\n",
      "imo free video calls and chat : 500,000,000+\n",
      "Viber Messenger : 500,000,000+\n",
      "Hangouts : 1,000,000,000+\n",
      "WeChat : 100,000,000+\n",
      "Skype - free IM & video calls : 1,000,000,000+\n",
      "Telegram : 100,000,000+\n",
      "Who : 100,000,000+\n",
      "GO SMS Pro - Messenger, Free Themes, Emoji : 100,000,000+\n",
      "Android Messages : 100,000,000+\n",
      "LINE: Free Calls & Messages : 500,000,000+\n",
      "BBM - Free Calls & Messages : 100,000,000+\n",
      "KakaoTalk: Free Calls & Text : 100,000,000+\n",
      "Google Chrome: Fast & Secure : 1,000,000,000+\n",
      "Firefox Browser fast & private : 100,000,000+\n",
      "Opera Browser: Fast and Secure : 100,000,000+\n",
      "Opera Mini - fast web browser : 100,000,000+\n",
      "UC Browser Mini -Tiny Fast Private & Secure : 100,000,000+\n",
      "UC Browser - Fast Download Private & Secure : 500,000,000+\n",
      "Viber Messenger : 500,000,000+\n",
      "Truecaller: Caller ID, SMS spam blocking & Dialer : 100,000,000+\n",
      "Gmail : 1,000,000,000+\n",
      "Yahoo Mail – Stay Organized : 100,000,000+\n",
      "Hangouts : 1,000,000,000+\n",
      "imo free video calls and chat : 500,000,000+\n",
      "Viber Messenger : 500,000,000+\n",
      "Skype - free IM & video calls : 1,000,000,000+\n",
      "WeChat : 100,000,000+\n",
      "LINE: Free Calls & Messages : 500,000,000+\n",
      "KakaoTalk: Free Calls & Text : 100,000,000+\n",
      "WhatsApp Messenger : 1,000,000,000+\n",
      "UC Browser - Fast Download Private & Secure : 500,000,000+\n",
      "Google Chrome: Fast & Secure : 1,000,000,000+\n",
      "Google Duo - High Quality Video Calls : 500,000,000+\n",
      "Firefox Browser fast & private : 100,000,000+\n",
      "Gmail : 1,000,000,000+\n",
      "Messenger – Text and Video Chat for Free : 1,000,000,000+\n",
      "Messenger Lite: Free Calls & Messages : 100,000,000+\n",
      "LINE: Free Calls & Messages : 500,000,000+\n",
      "imo beta free calls and text : 100,000,000+\n",
      "Hangouts : 1,000,000,000+\n",
      "imo free video calls and chat : 500,000,000+\n",
      "Skype - free IM & video calls : 1,000,000,000+\n",
      "Kik : 100,000,000+\n",
      "KakaoTalk: Free Calls & Text : 100,000,000+\n",
      "Opera Mini - fast web browser : 100,000,000+\n",
      "Opera Browser: Fast and Secure : 100,000,000+\n",
      "Telegram : 100,000,000+\n",
      "Truecaller: Caller ID, SMS spam blocking & Dialer : 100,000,000+\n",
      "UC Browser Mini -Tiny Fast Private & Secure : 100,000,000+\n",
      "Viber Messenger : 500,000,000+\n",
      "WeChat : 100,000,000+\n",
      "Yahoo Mail – Stay Organized : 100,000,000+\n",
      "BBM - Free Calls & Messages : 100,000,000+\n"
     ]
    }
   ],
   "source": [
    "for row in android_final:\n",
    "    if row[1] == 'COMMUNICATION' and (row[5] == '1,000,000,000+'\n",
    "                                      or row[5] == '500,000,000+'\n",
    "                                      or row[5] == '100,000,000+'):\n",
    "        print(row[0], ':', row[5])"
   ]
  },
  {
   "cell_type": "code",
   "execution_count": 41,
   "metadata": {
    "collapsed": false
   },
   "outputs": [
    {
     "data": {
      "text/plain": [
       "4386993.665492957"
      ]
     },
     "execution_count": 41,
     "metadata": {},
     "output_type": "execute_result"
    }
   ],
   "source": [
    "#If we removed all the communication apps that have over 100 million installs, the average would be reduced roughly ten times:\n",
    "\n",
    "\n",
    "under_100_m = []\n",
    "\n",
    "for app in android_final:\n",
    "    n_installs = app[5]\n",
    "    n_installs = n_installs.replace(',', '')\n",
    "    n_installs = n_installs.replace('+', '')\n",
    "    if (app[1] == 'COMMUNICATION') and (float(n_installs) < 100000000):\n",
    "        under_100_m.append(float(n_installs))\n",
    "        \n",
    "sum(under_100_m) / len(under_100_m)"
   ]
  },
  {
   "cell_type": "markdown",
   "metadata": {},
   "source": [
    "The game genre seems pretty popular, but previously we found out this part of the market seems a bit saturated, so we'd like to come up with a different app recommendation if possible.\n",
    "\n",
    "The books and reference genre looks fairly popular as well, with an average number of installs of 8,767,811. It's interesting to explore this in more depth, since we found this genre has some potential to work well on the App Store, and our aim is to recommend an app genre that shows potential for being profitable on both the App Store and Google Play.\n",
    "\n",
    "Let's take a look at some of the apps from this genre and their number of installs:"
   ]
  },
  {
   "cell_type": "code",
   "execution_count": 42,
   "metadata": {
    "collapsed": false,
    "scrolled": true
   },
   "outputs": [
    {
     "name": "stdout",
     "output_type": "stream",
     "text": [
      "Wattpad 📖 Free Books : 100,000,000+\n",
      "Amazon Kindle : 100,000,000+\n",
      "Google Play Books : 1,000,000,000+\n",
      "Bible : 100,000,000+\n",
      "Amazon Kindle : 100,000,000+\n",
      "Wattpad 📖 Free Books : 100,000,000+\n",
      "Audiobooks from Audible : 100,000,000+\n"
     ]
    }
   ],
   "source": [
    "\n",
    "for app in android_final:\n",
    "    if app[1] == 'BOOKS_AND_REFERENCE' and (app[5] == '1,000,000,000+'\n",
    "                                            or app[5] == '500,000,000+'\n",
    "                                            or app[5] == '100,000,000+'):\n",
    "        print(app[0], ':', app[5])"
   ]
  },
  {
   "cell_type": "markdown",
   "metadata": {},
   "source": [
    "# Conclusions\n",
    "In this project, we analyzed data about the App Store and Google Play mobile apps with the goal of recommending an app profile that can be profitable for both markets.\n",
    "\n",
    "We concluded that taking a popular book (perhaps a more recent book) and turning it into an app could be profitable for both the Google Play and the App Store markets. The markets are already full of libraries, so we need to add some special features besides the raw version of the book. This might include daily quotes from the book, an audio version of the book, quizzes on the book, a forum where people can discuss the book, etc."
   ]
  }
 ],
 "metadata": {
  "kernelspec": {
   "display_name": "Python 3",
   "language": "python",
   "name": "python3"
  },
  "language_info": {
   "codemirror_mode": {
    "name": "ipython",
    "version": 3
   },
   "file_extension": ".py",
   "mimetype": "text/x-python",
   "name": "python",
   "nbconvert_exporter": "python",
   "pygments_lexer": "ipython3",
   "version": "3.4.3"
  }
 },
 "nbformat": 4,
 "nbformat_minor": 2
}
